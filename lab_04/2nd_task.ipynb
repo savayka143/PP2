{
 "cells": [
  {
   "cell_type": "code",
   "execution_count": null,
   "metadata": {},
   "outputs": [
    {
     "name": "stdout",
     "output_type": "stream",
     "text": [
      "Date five days ago: 14-02-2025\n"
     ]
    }
   ],
   "source": [
    "#Write a Python program to subtract five days from current date.\n",
    "\n",
    "from datetime import datetime, timedelta\n",
    "\n",
    "current_date = datetime.now()\n",
    "new_date = current_date - timedelta(days = 5)\n",
    "\n",
    "print(\"Date five days ago:\", new_date.strftime(\"%d-%m-%Y\"))"
   ]
  },
  {
   "cell_type": "code",
   "execution_count": 5,
   "metadata": {},
   "outputs": [
    {
     "name": "stdout",
     "output_type": "stream",
     "text": [
      "Yesterday: 18-02-2025\n",
      "Today: 19-02-2025\n",
      "Tommorow: 20-02-2025\n"
     ]
    }
   ],
   "source": [
    "#Write a Python program to print yesterday, today, tomorrow.\n",
    "\n",
    "from datetime import datetime, timedelta\n",
    "\n",
    "today = datetime.now()\n",
    "yesterday = today - timedelta(days = 1)\n",
    "tommorow = today + timedelta(days = 1)\n",
    "\n",
    "print(\"Yesterday:\", yesterday.strftime(\"%d-%m-%Y\"))\n",
    "print(\"Today:\", today.strftime(\"%d-%m-%Y\"))\n",
    "print(\"Tommorow:\", tommorow.strftime(\"%d-%m-%Y\"))\n",
    "\n"
   ]
  },
  {
   "cell_type": "code",
   "execution_count": 7,
   "metadata": {},
   "outputs": [
    {
     "name": "stdout",
     "output_type": "stream",
     "text": [
      "Datetime without microseconds: 2025-02-19 07:52:28\n"
     ]
    }
   ],
   "source": [
    "#Write a Python program to drop microseconds from datetime.\n",
    "\n",
    "from datetime import datetime\n",
    "\n",
    "current_time = datetime.now().replace(microsecond = 0)\n",
    "print(\"Datetime without microseconds:\", current_time)"
   ]
  },
  {
   "cell_type": "code",
   "execution_count": 8,
   "metadata": {},
   "outputs": [
    {
     "name": "stdout",
     "output_type": "stream",
     "text": [
      "Difference in seconds: 1123253.0\n"
     ]
    }
   ],
   "source": [
    "#Write a Python program to calculate two date difference in seconds.\n",
    "\n",
    "from datetime import datetime, timedelta\n",
    "\n",
    "date1 = datetime(day = 19, month = 2, year = 2025, hour = 7, minute = 49, second = 56)\n",
    "date2 = datetime(day = 6, month = 2, year = 2025, hour = 7, minute = 49, second = 3)\n",
    "\n",
    "difference = abs((date2 - date1).total_seconds())\n",
    "print(\"Difference in seconds:\", difference)"
   ]
  }
 ],
 "metadata": {
  "kernelspec": {
   "display_name": "Python 3",
   "language": "python",
   "name": "python3"
  },
  "language_info": {
   "codemirror_mode": {
    "name": "ipython",
    "version": 3
   },
   "file_extension": ".py",
   "mimetype": "text/x-python",
   "name": "python",
   "nbconvert_exporter": "python",
   "pygments_lexer": "ipython3",
   "version": "3.13.1"
  }
 },
 "nbformat": 4,
 "nbformat_minor": 2
}
