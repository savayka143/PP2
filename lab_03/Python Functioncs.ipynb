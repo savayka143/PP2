{
 "cells": [
  {
   "cell_type": "code",
   "execution_count": null,
   "metadata": {},
   "outputs": [],
   "source": [
    "#1\n",
    "def ounces_to_grams(ounces):\n",
    "    return 28.3495231 * ounces\n",
    "\n",
    "ounces_to_grams(40)"
   ]
  },
  {
   "cell_type": "code",
   "execution_count": null,
   "metadata": {},
   "outputs": [],
   "source": [
    "#2\n",
    "def Fahrenheit_to_Celcius(a):\n",
    "    return (5 / 9) * (a - 32)\n",
    "\n",
    "Fahrenheit_to_Celcius(90)"
   ]
  },
  {
   "cell_type": "code",
   "execution_count": null,
   "metadata": {},
   "outputs": [],
   "source": [
    "#3\n",
    "\n",
    "def solve(numheads, numlegs):\n",
    "\n",
    "\n",
    "    for chickens in range(numheads + 1):  \n",
    "        rabbits = numheads - chickens \n",
    "        if 2 * chickens + 4 * rabbits == numlegs:\n",
    "            return f\"Chickens: {chickens}, Rabbits: {rabbits}\"\n",
    "    \n",
    "    return \"No solution\"\n",
    "\n",
    "print(solve(35, 94))\n"
   ]
  },
  {
   "cell_type": "code",
   "execution_count": 4,
   "metadata": {},
   "outputs": [],
   "source": [
    "#4\n",
    "def fiter_prime(lst):\n",
    "    def is_prime(n):\n",
    "        if n < 2:\n",
    "            return False\n",
    "        for i in range(2, int(n ** 0.5) + 1):\n",
    "            if n % i == 0:\n",
    "                return False\n",
    "            return True\n",
    "    return [num for num in lst if is_prime(num)]\n",
    "    "
   ]
  },
  {
   "cell_type": "code",
   "execution_count": null,
   "metadata": {},
   "outputs": [],
   "source": [
    "#5\n",
    "def get_permutation(string, i = 0):\n",
    "    if i == len(string):\n",
    "        print(\"\".join(string))\n",
    "        \n",
    "    for j in range(i, len(string)):\n",
    "        words = [c for c in string]\n",
    "        \n",
    "        words[i], words[j] = words[j], words[i]\n",
    "        \n",
    "        get_permutation(words, i + 1)\n",
    "        \n",
    "print(get_permutation(\"You\"))\n",
    "    \n",
    "    "
   ]
  },
  {
   "cell_type": "code",
   "execution_count": 9,
   "metadata": {},
   "outputs": [
    {
     "name": "stdout",
     "output_type": "stream",
     "text": [
      "ready are We\n"
     ]
    }
   ],
   "source": [
    "#6\n",
    "def reverse_words(string):\n",
    "    return ' '.join(string.split()[::-1])\n",
    "\n",
    "print(reverse_words(\"We are ready\"))"
   ]
  },
  {
   "cell_type": "code",
   "execution_count": 2,
   "metadata": {},
   "outputs": [
    {
     "name": "stdout",
     "output_type": "stream",
     "text": [
      "True\n",
      "False\n",
      "False\n",
      "True\n"
     ]
    }
   ],
   "source": [
    "#7\n",
    "def has_33(nums):\n",
    "    for i in range(len(nums) - 1):\n",
    "        if nums[i] == 3 and nums[i + 1] == 3: \n",
    "            return True\n",
    "    return False\n",
    "\n",
    "\n",
    "print(has_33([1, 3, 3]))    \n",
    "print(has_33([1, 3, 1, 3]))\n",
    "print(has_33([3, 1, 3]))   \n",
    "print(has_33([3, 3, 1, 3]))\n"
   ]
  },
  {
   "cell_type": "code",
   "execution_count": 5,
   "metadata": {},
   "outputs": [
    {
     "name": "stdout",
     "output_type": "stream",
     "text": [
      "True\n",
      "True\n",
      "False\n",
      "True\n"
     ]
    }
   ],
   "source": [
    "#8\n",
    "def contains_007(nums):\n",
    "    for i in range(len(nums) - 2):\n",
    "        if nums[i:i+3] == [0, 0, 7]:\n",
    "            return True\n",
    "    return False\n",
    "\n",
    "print(contains_007([1, 2, 3, 0, 0, 7]))  \n",
    "print(contains_007([0, 0, 7, 1, 2]))     \n",
    "print(contains_007([1, 2, 3, 4]))        \n",
    "print(contains_007([0, 1, 2, 0, 0, 7]))  \n"
   ]
  },
  {
   "cell_type": "code",
   "execution_count": 8,
   "metadata": {},
   "outputs": [
    {
     "name": "stdout",
     "output_type": "stream",
     "text": [
      "113.09733552923254\n"
     ]
    }
   ],
   "source": [
    "#9\n",
    "import math\n",
    "\n",
    "def sphere_volume(radius):\n",
    "    return (4/3) * math.pi * radius**3\n",
    "\n",
    "print(sphere_volume(3)) \n"
   ]
  },
  {
   "cell_type": "code",
   "execution_count": 11,
   "metadata": {},
   "outputs": [
    {
     "name": "stdout",
     "output_type": "stream",
     "text": [
      "[1, 2, 3, 4, 5]\n"
     ]
    }
   ],
   "source": [
    "#10\n",
    "def unique_elements(lst):\n",
    "    unique_lst = []\n",
    "    for item in lst:\n",
    "        if item not in unique_lst:\n",
    "            unique_lst.append(item)\n",
    "    return unique_lst\n",
    "\n",
    "print(unique_elements([1, 2, 2, 3, 4, 4, 5])) \n"
   ]
  },
  {
   "cell_type": "code",
   "execution_count": 12,
   "metadata": {},
   "outputs": [
    {
     "name": "stdout",
     "output_type": "stream",
     "text": [
      "True\n",
      "True\n",
      "False\n"
     ]
    }
   ],
   "source": [
    "def is_palindrome(s):\n",
    "    s = ''.join(s.split()).lower()\n",
    "    \n",
    "    return s == s[::-1]\n",
    "\n",
    "print(is_palindrome(\"madam\"))           \n",
    "print(is_palindrome(\"A man a plan a canal Panama\"))  \n",
    "print(is_palindrome(\"hello\"))           \n"
   ]
  },
  {
   "cell_type": "code",
   "execution_count": 9,
   "metadata": {},
   "outputs": [
    {
     "name": "stdout",
     "output_type": "stream",
     "text": [
      "****\n",
      "*********\n",
      "*******\n"
     ]
    }
   ],
   "source": [
    "#12\n",
    "def histogram(numbers):\n",
    "    for num in numbers:\n",
    "        print('*' * num)\n",
    "\n",
    "histogram([4, 9, 7])"
   ]
  },
  {
   "cell_type": "code",
   "execution_count": 13,
   "metadata": {},
   "outputs": [],
   "source": [
    "#13\n",
    "import random \n",
    "\n",
    "def GuessTheNumber():\n",
    "    random_number = random.randint(1, 20)\n",
    "    name = input(\"Hello,what's your name?\")\n",
    "    terms = 1\n",
    "    \n",
    "    while True:\n",
    "        guess = int(input(f\"Well, {name}, I am thinking of a number between 1 and 20.\\nTake a guess: \"))\n",
    "        print(\"Your guess:\", guess)\n",
    "        \n",
    "        if guess < random_number:\n",
    "            print(\"Your guess is too low.\\nTake a guess.\")\n",
    "            terms += 1\n",
    "            \n",
    "        elif guess > random_number:\n",
    "            print(\"Your guess is to high.\\nTake a guess.\")\n",
    "            terms += 1\n",
    "            \n",
    "        else:\n",
    "            print(f\"Good job, {name}! You guessed my number in {terms} guesses!\")\n",
    "            break\n",
    "        \n",
    "\n"
   ]
  }
 ],
 "metadata": {
  "kernelspec": {
   "display_name": "Python 3",
   "language": "python",
   "name": "python3"
  },
  "language_info": {
   "codemirror_mode": {
    "name": "ipython",
    "version": 3
   },
   "file_extension": ".py",
   "mimetype": "text/x-python",
   "name": "python",
   "nbconvert_exporter": "python",
   "pygments_lexer": "ipython3",
   "version": "3.13.1"
  }
 },
 "nbformat": 4,
 "nbformat_minor": 2
}
