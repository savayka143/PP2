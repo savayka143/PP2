{
 "cells": [
  {
   "cell_type": "code",
   "execution_count": 7,
   "metadata": {},
   "outputs": [
    {
     "name": "stdout",
     "output_type": "stream",
     "text": [
      "Your input is:  HELLO, WORLD!\n"
     ]
    }
   ],
   "source": [
    "class MyClass():\n",
    "    def __init__ (self): \n",
    "        self.string =  \"\"\n",
    "        \n",
    "    def getString(self):\n",
    "        self.string = input(\"Input a string: \")\n",
    "    \n",
    "    def printString(self):\n",
    "        print(\"Your input is: \", self.string.upper())\n",
    "        \n",
    "    \n",
    "obj = MyClass()\n",
    "obj.getString()\n",
    "obj.printString()"
   ]
  },
  {
   "cell_type": "code",
   "execution_count": 16,
   "metadata": {},
   "outputs": [
    {
     "name": "stdout",
     "output_type": "stream",
     "text": [
      "Area of Shape: 0\n",
      "Area of square: 9\n"
     ]
    }
   ],
   "source": [
    "class Shape():\n",
    "    def area(self):\n",
    "        return 0\n",
    "        \n",
    "        \n",
    "class Square(Shape):\n",
    "    def __init__ (self, length):\n",
    "        self.length = length\n",
    "        \n",
    "    def area(self):\n",
    "        return self.length**2        \n",
    "    \n",
    "shape = Shape()\n",
    "print(\"Area of Shape:\", shape.area())\n",
    "\n",
    "square = Square(3)\n",
    "print(\"Area of square:\", square.area())        "
   ]
  },
  {
   "cell_type": "code",
   "execution_count": 18,
   "metadata": {},
   "outputs": [
    {
     "name": "stdout",
     "output_type": "stream",
     "text": [
      "The area of a reactangle is: 50\n"
     ]
    }
   ],
   "source": [
    "class Rectangle(Shape):\n",
    "    def __init__ (self, length, width):\n",
    "        self.length = length\n",
    "        self.width = width\n",
    "    \n",
    "    def area(self):\n",
    "        return self.length * self.width\n",
    "\n",
    "\n",
    "rectangle = Rectangle(5, 10)\n",
    "print(\"The area of a reactangle is:\", rectangle.area())"
   ]
  },
  {
   "cell_type": "code",
   "execution_count": 26,
   "metadata": {},
   "outputs": [
    {
     "name": "stdout",
     "output_type": "stream",
     "text": [
      "Current coordinates are x: 2, y: 3.\n",
      "Current coordinates are x: 5, y: 7.\n",
      "Distance is: 5.0.\n"
     ]
    }
   ],
   "source": [
    "from math import sqrt\n",
    "\n",
    "class Point():\n",
    "    def __init__ (self, x, y):\n",
    "        self.x = x\n",
    "        self.y = y\n",
    "        \n",
    "    def show(self):\n",
    "        print(f\"Current coordinates are x: {self.x}, y: {self.y}.\")\n",
    "    \n",
    "    def move(self, new_x, new_y):\n",
    "        self.x = new_x\n",
    "        self.y = new_y\n",
    "        \n",
    "    def dist(self, new):\n",
    "        return sqrt(pow(self.x - new.x, 2) + pow(self.y - new.y, 2))\n",
    "\n",
    "\n",
    "p1 = Point(2, 3)\n",
    "p1.show()\n",
    "\n",
    "p1.move(5, 7)\n",
    "p1.show()\n",
    "\n",
    "p2 = Point(8, 11)\n",
    "distance = p1.dist(p2)\n",
    "print(f\"Distance is: {distance}.\")"
   ]
  },
  {
   "cell_type": "code",
   "execution_count": null,
   "metadata": {},
   "outputs": [],
   "source": [
    "class Account():\n",
    "    def __init__ (self, owner, balance):\n",
    "        "
   ]
  }
 ],
 "metadata": {
  "kernelspec": {
   "display_name": "Python 3",
   "language": "python",
   "name": "python3"
  },
  "language_info": {
   "codemirror_mode": {
    "name": "ipython",
    "version": 3
   },
   "file_extension": ".py",
   "mimetype": "text/x-python",
   "name": "python",
   "nbconvert_exporter": "python",
   "pygments_lexer": "ipython3",
   "version": "3.13.1"
  }
 },
 "nbformat": 4,
 "nbformat_minor": 2
}
