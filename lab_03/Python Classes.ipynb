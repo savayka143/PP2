{
 "cells": [
  {
   "cell_type": "code",
   "execution_count": 5,
   "metadata": {},
   "outputs": [
    {
     "name": "stdout",
     "output_type": "stream",
     "text": [
      "Your input is:  ADAASDAW\n"
     ]
    }
   ],
   "source": [
    "\"\"\"\n",
    "Class that gets a string from a console and prints out the string in upper case\n",
    "\"\"\"\n",
    "\n",
    "class MyClass():\n",
    "    def __init__ (self): \n",
    "        self.string =  \"\"\n",
    "        \n",
    "    def getString(self):\n",
    "        self.string = input(\"Input a string: \")\n",
    "    \n",
    "    def printString(self):\n",
    "        print(\"Your input is: \", self.string.upper())\n",
    "        \n",
    "    \n",
    "obj = MyClass()\n",
    "obj.getString()\n",
    "obj.printString()"
   ]
  },
  {
   "cell_type": "code",
   "execution_count": 6,
   "metadata": {},
   "outputs": [
    {
     "name": "stdout",
     "output_type": "stream",
     "text": [
      "Area of Shape: 0\n",
      "Area of square: 9\n"
     ]
    }
   ],
   "source": [
    "\"\"\"\n",
    "Class and its subclass, in the class Shape() the default value is 0 \n",
    "and in its subclass Square() we take length and find the area of a square\n",
    "\"\"\"\n",
    "\n",
    "class Shape():\n",
    "    def area(self):\n",
    "        return 0\n",
    "        \n",
    "        \n",
    "class Square(Shape):\n",
    "    def __init__ (self, length):\n",
    "        self.length = length\n",
    "        \n",
    "    def area(self):\n",
    "        return self.length**2        \n",
    "    \n",
    "shape = Shape()\n",
    "print(\"Area of Shape:\", shape.area())\n",
    "\n",
    "square = Square(3)\n",
    "print(\"Area of square:\", square.area())        "
   ]
  },
  {
   "cell_type": "code",
   "execution_count": 7,
   "metadata": {},
   "outputs": [
    {
     "name": "stdout",
     "output_type": "stream",
     "text": [
      "The area of a reactangle is: 50\n"
     ]
    }
   ],
   "source": [
    "\"\"\"\n",
    "Class Rectangle that inherits from Shape() and takes length and width as a input\n",
    "and fins area of a rectangle\n",
    "\"\"\"\n",
    "\n",
    "class Rectangle(Shape):\n",
    "    def __init__ (self, length, width):\n",
    "        self.length = length\n",
    "        self.width = width\n",
    "    \n",
    "    def area(self):\n",
    "        return self.length * self.width\n",
    "\n",
    "\n",
    "rectangle = Rectangle(5, 10)\n",
    "print(\"The area of a reactangle is:\", rectangle.area())"
   ]
  },
  {
   "cell_type": "code",
   "execution_count": 8,
   "metadata": {},
   "outputs": [
    {
     "name": "stdout",
     "output_type": "stream",
     "text": [
      "Current coordinates are x: 2, y: 3.\n",
      "Current coordinates are x: 5, y: 7.\n",
      "Distance is: 5.0.\n"
     ]
    }
   ],
   "source": [
    "from math import sqrt\n",
    "\n",
    "\"\"\"\n",
    "Class Point() that takes initial coordinate and the coordinates after the move() method \n",
    "and outputs the distance between them\n",
    "\"\"\"\n",
    "\n",
    "class Point():\n",
    "    def __init__ (self, x, y):\n",
    "        self.x = x\n",
    "        self.y = y\n",
    "        \n",
    "    def show(self):\n",
    "        print(f\"Current coordinates are x: {self.x}, y: {self.y}.\")\n",
    "    \n",
    "    def move(self, new_x, new_y):\n",
    "        self.x = new_x\n",
    "        self.y = new_y\n",
    "        \n",
    "    def dist(self, new):\n",
    "        return sqrt(pow(self.x - new.x, 2) + pow(self.y - new.y, 2))\n",
    "\n",
    "\n",
    "p1 = Point(2, 3)\n",
    "p1.show()\n",
    "\n",
    "p1.move(5, 7)\n",
    "p1.show()\n",
    "\n",
    "p2 = Point(8, 11)\n",
    "distance = p1.dist(p2)\n",
    "print(f\"Distance is: {distance}.\")"
   ]
  },
  {
   "cell_type": "code",
   "execution_count": 9,
   "metadata": {},
   "outputs": [
    {
     "name": "stdout",
     "output_type": "stream",
     "text": [
      "You've deposited: 500. Your balance is: 1500.\n",
      "You've withdrawed: 300. Your balance is: 1200.\n",
      "Error: Insufficient funds.\n",
      "None\n"
     ]
    }
   ],
   "source": [
    "\"\"\"\n",
    "Account() class where I can deposit and withdraw money from/into account\n",
    "\"\"\"\n",
    "\n",
    "class Account():\n",
    "    def __init__ (self, owner, balance):\n",
    "        self.owner = owner \n",
    "        self.balance = balance\n",
    "        \n",
    "    def deposit(self, amount):\n",
    "        self.balance += amount    \n",
    "        return f\"You've deposited: {amount}. Your balance is: {self.balance}.\"\n",
    "        \n",
    "    def withdraw(self, amount):\n",
    "        if self.balance - amount < 0:\n",
    "            print(\"Error: Insufficient funds.\")\n",
    "        else:\n",
    "            self.balance -= amount\n",
    "            return f\"You've withdrawed: {amount}. Your balance is: {self.balance}.\"\n",
    "            \n",
    "        \n",
    "        \n",
    "    \n",
    "acc = Account(\"Aldiyar\", 1000)  \n",
    "\n",
    "print(acc.deposit(500))  \n",
    "print(acc.withdraw(300))  \n",
    "print(acc.withdraw(5000)) \n",
    "\n",
    "        "
   ]
  },
  {
   "cell_type": "code",
   "execution_count": 10,
   "metadata": {},
   "outputs": [
    {
     "name": "stdout",
     "output_type": "stream",
     "text": [
      "Prime numbers from the list: [2, 3, 5, 7]\n"
     ]
    }
   ],
   "source": [
    "\"\"\"\n",
    "Check if num is greater than 1 and it's not divisible by any numbers from 2 to sqrt(num).\n",
    "\"\"\"\n",
    "\n",
    "list1 = [1, 2, 3, 4, 5, 6, 7, 8, 9, 10]\n",
    "\n",
    "is_prime = lambda num: num > 1 and all(num % i != 0 for i in range(2, int(num ** 0.5) + 1))\n",
    "\n",
    "prime_nums = list(filter(is_prime, list1))\n",
    "\n",
    "print(\"Prime numbers from the list:\", prime_nums)\n",
    "\n"
   ]
  }
 ],
 "metadata": {
  "kernelspec": {
   "display_name": "Python 3",
   "language": "python",
   "name": "python3"
  },
  "language_info": {
   "codemirror_mode": {
    "name": "ipython",
    "version": 3
   },
   "file_extension": ".py",
   "mimetype": "text/x-python",
   "name": "python",
   "nbconvert_exporter": "python",
   "pygments_lexer": "ipython3",
   "version": "3.13.1"
  }
 },
 "nbformat": 4,
 "nbformat_minor": 2
}
