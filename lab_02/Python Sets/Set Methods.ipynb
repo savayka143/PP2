{
 "cells": [
  {
   "cell_type": "code",
   "execution_count": null,
   "metadata": {},
   "outputs": [],
   "source": [
    "\"\"\"\n",
    "Set Methods\n",
    "Python has a set of built-in methods that you can use on sets.\n",
    "\n",
    "Method\t                Shortcut\t        Description\n",
    "add()\t \t                                        Adds an element to the set\n",
    "clear()\t \t                                        Removes all the elements from the set\n",
    "copy()\t \t                                        Returns a copy of the set\n",
    "difference()\t                -\t                Returns a set containing the difference between two or more sets\n",
    "difference_update()\t            -=\t                Removes the items in this set that are also included in another, specified set\n",
    "discard()\t \t                                    Remove the specified item\n",
    "intersection()\t                &\t                Returns a set, that is the intersection of two other sets\n",
    "intersection_update()\t        &=\t                Removes the items in this set that are not present in other, specified set(s)\n",
    "isdisjoint()\t \t                                Returns whether two sets have a intersection or not\n",
    "issubset()\t                    <=\t                Returns whether another set contains this set or not\n",
    " \t                            <\t                Returns whether all items in this set is present in other, specified set(s)\n",
    "issuperset()\t                >=\t                Returns whether this set contains another set or not\n",
    " \t                            >\t                Returns whether all items in other, specified set(s) is present in this set\n",
    "pop()\t \t                                        Removes an element from the set\n",
    "remove()\t \t                                    Removes the specified element\n",
    "symmetric_difference()\t        ^\t                Returns a set with the symmetric differences of two sets\n",
    "symmetric_difference_update()\t^=\t                Inserts the symmetric differences from this set and another\n",
    "union()\t                        |\t                Return a set containing the union of sets\n",
    "update()\t                    |=\t                Update the set with the union of this set and others\n",
    "\n",
    "\"\"\""
   ]
  }
 ],
 "metadata": {
  "language_info": {
   "name": "python"
  }
 },
 "nbformat": 4,
 "nbformat_minor": 2
}
