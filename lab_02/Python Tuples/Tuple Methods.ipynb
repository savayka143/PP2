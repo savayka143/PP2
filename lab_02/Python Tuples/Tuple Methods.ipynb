{
 "cells": [
  {
   "cell_type": "code",
   "execution_count": null,
   "metadata": {},
   "outputs": [],
   "source": [
    "\"\"\"\n",
    "Tuple Methods\n",
    "Python has two built-in methods that you can use on tuples.\n",
    "\n",
    "Method\tDescription\n",
    "count()\tReturns the number of times a specified value occurs in a tuple\n",
    "index()\tSearches the tuple for a specified value and returns the position of where it was found\n",
    "\"\"\""
   ]
  }
 ],
 "metadata": {
  "language_info": {
   "name": "python"
  }
 },
 "nbformat": 4,
 "nbformat_minor": 2
}
