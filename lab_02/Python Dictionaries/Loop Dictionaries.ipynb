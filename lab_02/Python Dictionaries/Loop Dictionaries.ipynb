{
 "cells": [
  {
   "cell_type": "code",
   "execution_count": 2,
   "metadata": {},
   "outputs": [
    {
     "name": "stdout",
     "output_type": "stream",
     "text": [
      "name\n",
      "age\n",
      "is_student\n",
      "hobbies\n",
      "grades\n",
      "coordinates\n",
      "favorite_numbers\n",
      "pets\n",
      "random_fact\n",
      "nested_dict\n"
     ]
    }
   ],
   "source": [
    "#Print all key names in the dictionary, one by one:\n",
    "thisdict = {\n",
    "    \"name\": \"Alice\",\n",
    "    \"age\": 25,\n",
    "    \"is_student\": True,\n",
    "    \"hobbies\": [\"reading\", \"gaming\", \"traveling\"],\n",
    "    \"grades\": {\"math\": 85, \"science\": 90, \"history\": 78},\n",
    "    \"coordinates\": (43.25654, 76.92848),\n",
    "    \"favorite_numbers\": [7, 42, 19],\n",
    "    \"pets\": None,\n",
    "    \"random_fact\": \"The honeybee can recognize human faces.\",\n",
    "    \"nested_dict\": {\n",
    "        \"key1\": \"value1\",\n",
    "        \"key2\": [\"a\", \"b\", \"c\"],\n",
    "        \"key3\": {\"inner_key\": \"inner_value\"}\n",
    "    }\n",
    "}\n",
    "for x in thisdict:\n",
    "  print(x)"
   ]
  },
  {
   "cell_type": "code",
   "execution_count": 7,
   "metadata": {},
   "outputs": [
    {
     "name": "stdout",
     "output_type": "stream",
     "text": [
      "Alice\n",
      "25\n",
      "True\n",
      "['reading', 'gaming', 'traveling']\n",
      "{'math': 85, 'science': 90, 'history': 78}\n",
      "(43.25654, 76.92848)\n",
      "[7, 42, 19]\n",
      "None\n",
      "The honeybee can recognize human faces.\n",
      "{'key1': 'value1', 'key2': ['a', 'b', 'c'], 'key3': {'inner_key': 'inner_value'}}\n"
     ]
    }
   ],
   "source": [
    "#Print all values in the dictionary, one by one:\n",
    "for x in thisdict:\n",
    "  print(thisdict[x])"
   ]
  },
  {
   "cell_type": "code",
   "execution_count": 4,
   "metadata": {},
   "outputs": [
    {
     "name": "stdout",
     "output_type": "stream",
     "text": [
      "Alice\n",
      "25\n",
      "True\n",
      "['reading', 'gaming', 'traveling']\n",
      "{'math': 85, 'science': 90, 'history': 78}\n",
      "(43.25654, 76.92848)\n",
      "[7, 42, 19]\n",
      "None\n",
      "The honeybee can recognize human faces.\n",
      "{'key1': 'value1', 'key2': ['a', 'b', 'c'], 'key3': {'inner_key': 'inner_value'}}\n"
     ]
    }
   ],
   "source": [
    "#You can also use the values() method to return values of a dictionary:\n",
    "for x in thisdict.values():\n",
    "  print(x)"
   ]
  },
  {
   "cell_type": "code",
   "execution_count": 5,
   "metadata": {},
   "outputs": [
    {
     "name": "stdout",
     "output_type": "stream",
     "text": [
      "name\n",
      "age\n",
      "is_student\n",
      "hobbies\n",
      "grades\n",
      "coordinates\n",
      "favorite_numbers\n",
      "pets\n",
      "random_fact\n",
      "nested_dict\n"
     ]
    }
   ],
   "source": [
    "#You can use the keys() method to return the keys of a dictionary:\n",
    "for x in thisdict.keys():\n",
    "  print(x)"
   ]
  },
  {
   "cell_type": "code",
   "execution_count": 6,
   "metadata": {},
   "outputs": [
    {
     "name": "stdout",
     "output_type": "stream",
     "text": [
      "name Alice\n",
      "age 25\n",
      "is_student True\n",
      "hobbies ['reading', 'gaming', 'traveling']\n",
      "grades {'math': 85, 'science': 90, 'history': 78}\n",
      "coordinates (43.25654, 76.92848)\n",
      "favorite_numbers [7, 42, 19]\n",
      "pets None\n",
      "random_fact The honeybee can recognize human faces.\n",
      "nested_dict {'key1': 'value1', 'key2': ['a', 'b', 'c'], 'key3': {'inner_key': 'inner_value'}}\n"
     ]
    }
   ],
   "source": [
    "#Loop through both keys and values, by using the items() method:\n",
    "for x, y in thisdict.items():\n",
    "  print(x, y)"
   ]
  }
 ],
 "metadata": {
  "kernelspec": {
   "display_name": "Python 3",
   "language": "python",
   "name": "python3"
  },
  "language_info": {
   "codemirror_mode": {
    "name": "ipython",
    "version": 3
   },
   "file_extension": ".py",
   "mimetype": "text/x-python",
   "name": "python",
   "nbconvert_exporter": "python",
   "pygments_lexer": "ipython3",
   "version": "3.13.1"
  }
 },
 "nbformat": 4,
 "nbformat_minor": 2
}
