{
 "cells": [
  {
   "cell_type": "code",
   "execution_count": null,
   "metadata": {},
   "outputs": [],
   "source": [
    "path = 'C:\\KBTU'\n",
    "print(\"Only directories:\")\n",
    "print([ name for name in os.listdir(path) if os.path.isdir(os.path.join(path, name)) ])\n",
    "print(\"\\nOnly files:\")\n",
    "print([ name for name in os.listdir(path) if not os.path.isdir(os.path.join(path, name)) ])\n",
    "print(\"\\nAll directories and files :\")\n",
    "print([ name for name in os.listdir(path)])"
   ]
  },
  {
   "cell_type": "code",
   "execution_count": null,
   "metadata": {},
   "outputs": [],
   "source": [
    "# 1. Write a Python program to list only directories, \n",
    "# files and all directories, files in a specified path.\n",
    "\n",
    "import os\n",
    "\n",
    "path = 'C:\\KBTU'\n",
    "\n",
    "if not os.path.exists(path):\n",
    "    print(f\"Error: Path does not exist.\")\n",
    "else:\n",
    "    all_items = os.listdir(path)\n",
    "    \n",
    "    directories = []\n",
    "    files = []\n",
    "    \n",
    "    for item in all_items:\n",
    "        full_path = os.path.join(path, item)\n",
    "        \n",
    "        if os.path.isdir(full_path):\n",
    "            directories.append(item)\n",
    "        else:\n",
    "            files.append(item)\n",
    "    \n",
    "    print(\"Only folders:\")\n",
    "    print(directories)\n",
    "\n",
    "    print(\"\\nOnly files:\")\n",
    "    print(files)\n",
    "\n",
    "    print(\"\\nAll files and folders:\")\n",
    "    print(all_items)"
   ]
  },
  {
   "cell_type": "code",
   "execution_count": null,
   "metadata": {},
   "outputs": [],
   "source": [
    "# 2. Write a Python program to check for access to \n",
    "# a specified path. Test the existence, readability, writability and executability of the specified path\n",
    "\n",
    "def check_path_access(path):\n",
    "    print(\"Checking the following path:\", path)\n",
    "    \n",
    "    if os.path.exists(path):\n",
    "        print(\"The path exists.\")\n",
    "    else: \n",
    "        print(\"The path does not exist.\")\n",
    "        return\n",
    "    if os.access(path, os.R_OK):\n",
    "        print(\"The path is readable.\")\n",
    "    else:\n",
    "        print(\"The path is not readable\")\n",
    "    if os.access(path, os.W_OK):\n",
    "        print(\"The path is writable.\")\n",
    "    else:\n",
    "        print(\"The path is not writable.\")\n",
    "    if os.access(path, os.X_OK):\n",
    "        print(\"The path is executable.\")\n",
    "    else:\n",
    "        print(\"The path is not executable.\")\n",
    "\n",
    "\n",
    "if __name__ == \"__main__\":\n",
    "    path_to_check = input(\"Enter the path to check: \")\n",
    "    check_path_access(path_to_check)\n",
    "        "
   ]
  },
  {
   "cell_type": "code",
   "execution_count": null,
   "metadata": {},
   "outputs": [],
   "source": [
    "# 3. Write a Python program to test whether a given path exists or not.\n",
    "# If the path exist find the filename and directory portion of the given path.\n",
    "\n",
    "import os  \n",
    "\n",
    "path = 'C:\\\\KBTU' \n",
    "\n",
    "def check_path_exists(path):\n",
    "    print(f\"Checking the following path: {path}\")  \n",
    "    \n",
    "    if os.path.exists(path):\n",
    "        print(\"The path exists.\")  \n",
    "        \n",
    "        if os.path.isfile(path):\n",
    "            print(\"It is a file.\")\n",
    "            \n",
    "            filename = os.path.basename(path)\n",
    "            print(f\"Filename: {filename}\")\n",
    "            \n",
    "            directory = os.path.dirname(path)\n",
    "            print(f\"Directory: {directory}\")\n",
    "        \n",
    "        elif os.path.isdir(path):\n",
    "            print(\"It is a directory.\")\n",
    "            print(f\"Directory path: {path}\")\n",
    "    \n",
    "    else:\n",
    "        print(\"The path does not exist.\")  \n",
    "\n",
    "check_path_exists(path)\n"
   ]
  },
  {
   "cell_type": "code",
   "execution_count": null,
   "metadata": {},
   "outputs": [],
   "source": [
    "# 4. Write a Python program to count the number of lines in a text file.\n",
    "\n",
    "def count_lines(path):\n",
    "    with open(path, 'r', encoding = 'utf-8') as fp:\n",
    "        lines = len(fp.readlines())\n",
    "        print(f'Total Number of lines: {lines}')\n",
    "\n",
    "file_path = r'C:\\PP2\\lab_06\\test.txt'\n",
    "count_lines(file_path)\n"
   ]
  },
  {
   "cell_type": "code",
   "execution_count": null,
   "metadata": {},
   "outputs": [],
   "source": [
    "# 5. Write a Python program to write a list to a file.\n",
    "def write_list_to_file(file_path, data_list):\n",
    "    with open(file_path, 'w', encoding='utf-8') as file:\n",
    "        file.writelines(\"\\n\".join(data_list))\n",
    "        \n",
    "file_path = r'C:\\PP2\\lab_06\\test.txt'\n"
   ]
  },
  {
   "cell_type": "code",
   "execution_count": null,
   "metadata": {},
   "outputs": [],
   "source": [
    "# 7. Copy contents of a file to another file\n",
    "import shutil\n",
    "\n",
    "def copy_file(src, dst):\n",
    "    shutil.copy(src, dst)\n",
    "    print(f\"Copied {src} to {dst}\")\n",
    "\n",
    "file_path = r'C:\\PP2\\lab_06\\test.txt'\n",
    "destination_path = r'C:\\PP2\\lab_06\\test_copy.txt' \n",
    "\n",
    "copy_file(file_path, destination_path)\n"
   ]
  },
  {
   "cell_type": "code",
   "execution_count": null,
   "metadata": {},
   "outputs": [],
   "source": [
    "import os\n",
    "\n",
    "def delete_file(file_path):\n",
    "    if os.path.exists(file_path) and os.access(file_path, os.W_OK):\n",
    "        os.remove(file_path)\n",
    "        print(f\"Deleted {file_path}\")\n",
    "    else:\n",
    "        print(\"Cannot delete file. Either it does not exist or access is denied.\")\n",
    "        \n",
    "file_path = r'C:\\PP2\\lab_06\\test.txt'\n",
    "delete_file(file_path)\n"
   ]
  }
 ],
 "metadata": {
  "kernelspec": {
   "display_name": "Python 3",
   "language": "python",
   "name": "python3"
  },
  "language_info": {
   "codemirror_mode": {
    "name": "ipython",
    "version": 3
   },
   "file_extension": ".py",
   "mimetype": "text/x-python",
   "name": "python",
   "nbconvert_exporter": "python",
   "pygments_lexer": "ipython3",
   "version": "3.13.1"
  }
 },
 "nbformat": 4,
 "nbformat_minor": 2
}
