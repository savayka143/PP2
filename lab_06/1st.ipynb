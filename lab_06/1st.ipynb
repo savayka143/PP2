{
 "cells": [
  {
   "cell_type": "code",
   "execution_count": null,
   "metadata": {},
   "outputs": [],
   "source": [
    "# 1. Write a Python program with built-in function that multiplies\n",
    "# all numbers in the list sequentially.\n",
    "def multiply_list(list):\n",
    "    result = 1\n",
    "    for num in list:\n",
    "        result *= num\n",
    "    return result\n",
    "\n",
    "list = [2, 4, 6, 8, 10, 12]\n",
    "print(multiply_list(list))"
   ]
  },
  {
   "cell_type": "code",
   "execution_count": null,
   "metadata": {},
   "outputs": [],
   "source": [
    "# 2. Write a Python program with built-in function that accepts the string\n",
    "# and calculates the amount of uppercase and lowercase letters appear. \n",
    "import random\n",
    "import string\n",
    "\n",
    "def uppercase_lowercase_letters(string):\n",
    "    return sum(1 for letter in string if letter.isupper()), sum(1 for letter in string if letter.lower())\n",
    "            \n",
    "length = 20\n",
    "random_string = \"\".join(random.choices(string.ascii_letters, k = length))\n",
    "\n",
    "print(random_string)\n",
    "print(\"Amount of uppercase and lowercase letters:\",uppercase_lowercase_letters(random_string))"
   ]
  },
  {
   "cell_type": "code",
   "execution_count": null,
   "metadata": {},
   "outputs": [],
   "source": [
    "# 3. Write a Python program with built-in function that checks whether a passed\n",
    "# string is palindrome or not.\n",
    "def is_palindrome(string):\n",
    "    if string.lower()[::-1] == string.lower():\n",
    "        return True\n",
    "    else:\n",
    "        return False\n",
    "\n",
    "strings = [\"Civic\", \"Deed\", \"Noon\", \"Refer\", \"Apple\", \"Bilo\", \"Urzikstan\"]\n",
    "\n",
    "value = random.choice(strings)\n",
    "\n",
    "s = is_palindrome(value)\n",
    "\n",
    "print(value, \"-->\", s)"
   ]
  },
  {
   "cell_type": "code",
   "execution_count": null,
   "metadata": {},
   "outputs": [
    {
     "name": "stdout",
     "output_type": "stream",
     "text": [
      "Square root of 99 after 4763 milliseconds is 9.9498743710662ю\n"
     ]
    }
   ],
   "source": [
    "# 4. Write a Python program that invoke square root \n",
    "# function after specific milliseconds\n",
    "import time \n",
    "\n",
    "def invoke_sqrt_after_specific_milliseconds(num, delay_ms):\n",
    "    time.sleep(delay_ms / 1000) \n",
    "    return num ** 0.5\n",
    "\n",
    "random_int = random.randint(0, 1000)\n",
    "random_delay = random.randint(500, 5000)\n",
    "\n",
    "result = invoke_sqrt_after_specific_milliseconds(random_int, random_delay)\n",
    "print(f\"Square root of {random_int} after {random_delay} milliseconds is {result}ю\")"
   ]
  },
  {
   "cell_type": "code",
   "execution_count": 101,
   "metadata": {},
   "outputs": [
    {
     "name": "stdout",
     "output_type": "stream",
     "text": [
      "(False, True, True)\n",
      "Is every element \"True\"?: False\n"
     ]
    }
   ],
   "source": [
    "# 5. Write a Python program with builtin function\n",
    "# that returns True if all elements of the tuple are true.\n",
    "\n",
    "random_tuple = tuple(random.choices([True, False], k = 3))\n",
    "print(random_tuple)\n",
    "\n",
    "def is_all_True(t):\n",
    "    return all(t)\n",
    "\n",
    "print('Is every element \"True\"?:', is_all_True(random_tuple))"
   ]
  }
 ],
 "metadata": {
  "kernelspec": {
   "display_name": "Python 3",
   "language": "python",
   "name": "python3"
  },
  "language_info": {
   "codemirror_mode": {
    "name": "ipython",
    "version": 3
   },
   "file_extension": ".py",
   "mimetype": "text/x-python",
   "name": "python",
   "nbconvert_exporter": "python",
   "pygments_lexer": "ipython3",
   "version": "3.13.1"
  }
 },
 "nbformat": 4,
 "nbformat_minor": 2
}
